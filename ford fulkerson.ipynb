{
 "cells": [
  {
   "cell_type": "code",
   "execution_count": 35,
   "id": "dbd4e590",
   "metadata": {},
   "outputs": [],
   "source": [
    "g={\n",
    "    \n",
    "    ('i','x1'):[45,35],\n",
    "    ('i','x2'):[25,25],\n",
    "    ('i','x3'):[25,20],\n",
    "    ('x1','x4'):[10,10],\n",
    "    ('x1','x5'):[15,5],\n",
    "    ('x1','x7'):[20,20],\n",
    "    ('x2','x4'):[20,15],\n",
    "    ('x2','x5'):[5,5],\n",
    "    ('x2','x6'):[5,5],\n",
    "    ('x3','x6'):[10,10],\n",
    "    ('x3','x7'):[10,10],\n",
    "    ('x4','o'):[30,25],\n",
    "    ('x5','o'):[10,10],\n",
    "    ('x6','o'):[15,15],\n",
    "    ('x7','o'):[30,30]\n",
    "    \n",
    "}"
   ]
  },
  {
   "cell_type": "code",
   "execution_count": 36,
   "id": "cf7373ee",
   "metadata": {},
   "outputs": [],
   "source": [
    "def get_succ(g,s):\n",
    "    suc=[]\n",
    "    for i in g.keys():\n",
    "        if(i[0]==s):\n",
    "            if(g[i][0]!=g[i][1]):\n",
    "                suc.append(i[1])\n",
    "    return suc"
   ]
  },
  {
   "cell_type": "code",
   "execution_count": 37,
   "id": "bf7c72d6",
   "metadata": {},
   "outputs": [],
   "source": [
    "def get_pred(g,s,b):\n",
    "    pred=[]\n",
    "    for i in g.keys():\n",
    "        if(i[1]==s):\n",
    "            if(g[i][1]>b):\n",
    "                pred.append(i[0])\n",
    "    return pred"
   ]
  },
  {
   "cell_type": "code",
   "execution_count": 38,
   "id": "32cda50e",
   "metadata": {},
   "outputs": [
    {
     "name": "stdout",
     "output_type": "stream",
     "text": [
      "['x1', 'x3']\n"
     ]
    }
   ],
   "source": [
    "k=get_succ(g,'i')\n",
    "print(k)"
   ]
  },
  {
   "cell_type": "code",
   "execution_count": 39,
   "id": "26ad02aa",
   "metadata": {},
   "outputs": [
    {
     "name": "stdout",
     "output_type": "stream",
     "text": [
      "[]\n"
     ]
    }
   ],
   "source": [
    "k=get_pred(g,'i',0)\n",
    "print(k)"
   ]
  },
  {
   "cell_type": "code",
   "execution_count": 45,
   "id": "8b539283",
   "metadata": {},
   "outputs": [
    {
     "name": "stdout",
     "output_type": "stream",
     "text": [
      "le flot obtenu n'est pas optimal\n",
      "{'i': '+', 'x1': '+', 'x3': '+', 'x5': '+', 'x2': '-', 'x4': '+', 'o': '+'}\n"
     ]
    }
   ],
   "source": [
    "marq={'i':'+'}\n",
    "\n",
    "i='i'\n",
    "o='o'\n",
    "b=0\n",
    "def marguage(g,b,i,o,marq):\n",
    "    succ=get_succ(g,i)\n",
    "    new=[]\n",
    "    for c in succ:\n",
    "        if c not in marq.keys():\n",
    "            marq[c]='+'\n",
    "            new.append(c)\n",
    "    pred=get_pred(g,i,b)\n",
    "    for c in pred :\n",
    "        if c not in marq.keys():\n",
    "            marq[c]='-'\n",
    "            new.append(c)\n",
    "    if (len(new)!=0 and (o not in marq) ):\n",
    "        for i in new:\n",
    "            if ( o not in marq):\n",
    "                marguage(g,b,i,o,marq)\n",
    "    elif(o in marq ):\n",
    "        print(\"le flot obtenu n'est pas optimal\")\n",
    "        print(marq)\n",
    "        return marq\n",
    "    else :\n",
    "        print(\"le flot obtenu est optimal\")\n",
    "        return marq\n",
    "        \n",
    "    \n",
    "\n",
    "c=marguage(g,0,'i','o',marq) \n"
   ]
  },
  {
   "cell_type": "code",
   "execution_count": 46,
   "id": "0051daa8",
   "metadata": {},
   "outputs": [],
   "source": [
    "c"
   ]
  },
  {
   "cell_type": "code",
   "execution_count": 41,
   "id": "f9efe894",
   "metadata": {},
   "outputs": [
    {
     "ename": "SyntaxError",
     "evalue": "'return' outside function (2703155928.py, line 4)",
     "output_type": "error",
     "traceback": [
      "\u001b[0;36m  Input \u001b[0;32mIn [41]\u001b[0;36m\u001b[0m\n\u001b[0;31m    return marq\u001b[0m\n\u001b[0m    ^\u001b[0m\n\u001b[0;31mSyntaxError\u001b[0m\u001b[0;31m:\u001b[0m 'return' outside function\n"
     ]
    }
   ],
   "source": [
    "    if(o in marq ):\n",
    "        print(\"le flot obtenu n'est pas optimal\")\n",
    "        print(marq)\n",
    "        return marq\n",
    "        \n",
    "    if (len(new)!=0 and (o not in marq) ):\n",
    "        for i in new:\n",
    "            marguage(g,b,i,o,marq)\n",
    "        \n",
    "    if (len(new)!=0 and (o in marq) ):\n",
    "        print(\"le flot obtenu est optimal\")\n",
    "        print(marq)\n",
    "        return marq"
   ]
  },
  {
   "cell_type": "code",
   "execution_count": null,
   "id": "3a392880",
   "metadata": {},
   "outputs": [],
   "source": []
  }
 ],
 "metadata": {
  "kernelspec": {
   "display_name": "Python 3 (ipykernel)",
   "language": "python",
   "name": "python3"
  },
  "language_info": {
   "codemirror_mode": {
    "name": "ipython",
    "version": 3
   },
   "file_extension": ".py",
   "mimetype": "text/x-python",
   "name": "python",
   "nbconvert_exporter": "python",
   "pygments_lexer": "ipython3",
   "version": "3.9.12"
  }
 },
 "nbformat": 4,
 "nbformat_minor": 5
}
